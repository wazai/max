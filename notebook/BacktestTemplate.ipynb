{
 "cells": [
  {
   "cell_type": "code",
   "execution_count": 10,
   "metadata": {
    "collapsed": false
   },
   "outputs": [
    {
     "ename": "SyntaxError",
     "evalue": "invalid syntax (<ipython-input-10-cc3483a1a1ed>, line 11)",
     "output_type": "error",
     "traceback": [
      "\u001b[0;36m  File \u001b[0;32m\"<ipython-input-10-cc3483a1a1ed>\"\u001b[0;36m, line \u001b[0;32m11\u001b[0m\n\u001b[0;31m    mkt_data[\"sh\"] =\u001b[0m\n\u001b[0m                     ^\u001b[0m\n\u001b[0;31mSyntaxError\u001b[0m\u001b[0;31m:\u001b[0m invalid syntax\n"
     ]
    }
   ],
   "source": [
    "import sys\n",
    "sys.path.append(\"..\")\n",
    "import max.alpha as ap\n",
    "import max.datacenter.datacenter as dc\n",
    "import max.backtester as bt\n",
    "import datetime as dt\n",
    "import numpy as np\n",
    "\n",
    "regs = {}\n",
    "regs[\"sh\"] = reg\n",
    "mkt_data[\"sh\"] = \n",
    "\n",
    "d = dc.DataCenter('2010-01-01','2017-02-01')\n",
    "class newalpha(ap.Alpha):\n",
    "    def cal(self, date, regs, mkt_data):\n",
    "        \n",
    "        regs[\"sh\"].predict(x)\n",
    "        \n",
    "        self.alpha = np.average(mkt_data, axis=0)\n",
    "        \n",
    "new = newalpha('a1', ['sh'], d) #alpha name, code, datacenter\n",
    "\n",
    "rule = bt.Rule()\n",
    "backtest = bt.Backtester(new,rule)\n",
    "\n",
    "backtest.backtest()"
   ]
  },
  {
   "cell_type": "code",
   "execution_count": null,
   "metadata": {
    "collapsed": true
   },
   "outputs": [],
   "source": []
  }
 ],
 "metadata": {
  "kernelspec": {
   "display_name": "Python 3",
   "language": "python",
   "name": "python3"
  },
  "language_info": {
   "codemirror_mode": {
    "name": "ipython",
    "version": 3
   },
   "file_extension": ".py",
   "mimetype": "text/x-python",
   "name": "python",
   "nbconvert_exporter": "python",
   "pygments_lexer": "ipython3",
   "version": "3.6.0"
  }
 },
 "nbformat": 4,
 "nbformat_minor": 2
}
