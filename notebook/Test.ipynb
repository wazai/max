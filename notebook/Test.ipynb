{
 "cells": [
  {
   "cell_type": "code",
   "execution_count": 14,
   "metadata": {
    "collapsed": true
   },
   "outputs": [],
   "source": [
    "import sys\n",
    "sys.path.append(\"..\")"
   ]
  },
  {
   "cell_type": "code",
   "execution_count": 112,
   "metadata": {
    "collapsed": false
   },
   "outputs": [],
   "source": [
    "import max.alpha as ap\n",
    "import max.datacenter.datacenter as dc\n",
    "import max.backtester as bt\n",
    "from sklearn import linear_model\n",
    "import pandas as pd\n",
    "from pandas.tools.plotting import autocorrelation_plot\n",
    "import matplotlib.pyplot as plt\n",
    "import seaborn as sns\n",
    "from sklearn import metrics\n",
    "import statsmodels.api as sm"
   ]
  },
  {
   "cell_type": "code",
   "execution_count": 28,
   "metadata": {
    "collapsed": false
   },
   "outputs": [
    {
     "data": {
      "text/plain": [
       "<module 'max.backtester' from '..\\\\max\\\\backtester.py'>"
      ]
     },
     "execution_count": 28,
     "metadata": {},
     "output_type": "execute_result"
    }
   ],
   "source": [
    "import imp\n",
    "imp.reload(ap)\n",
    "imp.reload(bt)"
   ]
  },
  {
   "cell_type": "code",
   "execution_count": 17,
   "metadata": {
    "collapsed": true
   },
   "outputs": [],
   "source": [
    "d = dc.DataCenter('2010-01-01','2017-02-01')"
   ]
  },
  {
   "cell_type": "code",
   "execution_count": 87,
   "metadata": {
    "collapsed": false
   },
   "outputs": [],
   "source": [
    "# some regression\n",
    "data = d.load_codes_return(['sh'],d.start_date,d.end_date)\n",
    "price = d.load_codes_column('sh'],,d.start_date,d.end_date)"
   ]
  },
  {
   "cell_type": "code",
   "execution_count": 90,
   "metadata": {
    "collapsed": false
   },
   "outputs": [
    {
     "data": {
      "text/html": [
       "<div>\n",
       "<table border=\"1\" class=\"dataframe\">\n",
       "  <thead>\n",
       "    <tr style=\"text-align: right;\">\n",
       "      <th>code</th>\n",
       "      <th>sh</th>\n",
       "      <th>vol</th>\n",
       "      <th>vol20</th>\n",
       "      <th>lag1</th>\n",
       "      <th>lag2</th>\n",
       "      <th>5Max</th>\n",
       "      <th>5Min</th>\n",
       "      <th>y</th>\n",
       "    </tr>\n",
       "    <tr>\n",
       "      <th>date</th>\n",
       "      <th></th>\n",
       "      <th></th>\n",
       "      <th></th>\n",
       "      <th></th>\n",
       "      <th></th>\n",
       "      <th></th>\n",
       "      <th></th>\n",
       "      <th></th>\n",
       "    </tr>\n",
       "  </thead>\n",
       "  <tbody>\n",
       "    <tr>\n",
       "      <th>2010-03-19</th>\n",
       "      <td>0.007111</td>\n",
       "      <td>0.000051</td>\n",
       "      <td>0.001888</td>\n",
       "      <td>-0.001439</td>\n",
       "      <td>0.018919</td>\n",
       "      <td>0.018919</td>\n",
       "      <td>-0.012104</td>\n",
       "      <td>0.002225</td>\n",
       "    </tr>\n",
       "    <tr>\n",
       "      <th>2010-03-22</th>\n",
       "      <td>0.002225</td>\n",
       "      <td>0.000005</td>\n",
       "      <td>0.001863</td>\n",
       "      <td>0.007111</td>\n",
       "      <td>-0.001439</td>\n",
       "      <td>0.018919</td>\n",
       "      <td>-0.001439</td>\n",
       "      <td>-0.006977</td>\n",
       "    </tr>\n",
       "    <tr>\n",
       "      <th>2010-03-23</th>\n",
       "      <td>-0.006977</td>\n",
       "      <td>0.000049</td>\n",
       "      <td>0.001840</td>\n",
       "      <td>0.002225</td>\n",
       "      <td>0.007111</td>\n",
       "      <td>0.018919</td>\n",
       "      <td>-0.006977</td>\n",
       "      <td>0.001206</td>\n",
       "    </tr>\n",
       "    <tr>\n",
       "      <th>2010-03-24</th>\n",
       "      <td>0.001206</td>\n",
       "      <td>0.000001</td>\n",
       "      <td>0.001823</td>\n",
       "      <td>-0.006977</td>\n",
       "      <td>0.002225</td>\n",
       "      <td>0.007111</td>\n",
       "      <td>-0.006977</td>\n",
       "      <td>-0.012311</td>\n",
       "    </tr>\n",
       "    <tr>\n",
       "      <th>2010-03-25</th>\n",
       "      <td>-0.012311</td>\n",
       "      <td>0.000152</td>\n",
       "      <td>0.001771</td>\n",
       "      <td>0.001206</td>\n",
       "      <td>-0.006977</td>\n",
       "      <td>0.007111</td>\n",
       "      <td>-0.012311</td>\n",
       "      <td>0.013427</td>\n",
       "    </tr>\n",
       "    <tr>\n",
       "      <th>2010-03-26</th>\n",
       "      <td>0.013427</td>\n",
       "      <td>0.000180</td>\n",
       "      <td>0.001816</td>\n",
       "      <td>-0.012311</td>\n",
       "      <td>0.001206</td>\n",
       "      <td>0.013427</td>\n",
       "      <td>-0.012311</td>\n",
       "      <td>0.020944</td>\n",
       "    </tr>\n",
       "    <tr>\n",
       "      <th>2010-03-29</th>\n",
       "      <td>0.020944</td>\n",
       "      <td>0.000439</td>\n",
       "      <td>0.001919</td>\n",
       "      <td>0.013427</td>\n",
       "      <td>-0.012311</td>\n",
       "      <td>0.020944</td>\n",
       "      <td>-0.012311</td>\n",
       "      <td>0.001495</td>\n",
       "    </tr>\n",
       "    <tr>\n",
       "      <th>2010-03-30</th>\n",
       "      <td>0.001495</td>\n",
       "      <td>0.000002</td>\n",
       "      <td>0.001829</td>\n",
       "      <td>0.020944</td>\n",
       "      <td>0.013427</td>\n",
       "      <td>0.020944</td>\n",
       "      <td>-0.012311</td>\n",
       "      <td>-0.006189</td>\n",
       "    </tr>\n",
       "    <tr>\n",
       "      <th>2010-03-31</th>\n",
       "      <td>-0.006189</td>\n",
       "      <td>0.000038</td>\n",
       "      <td>0.001599</td>\n",
       "      <td>0.001495</td>\n",
       "      <td>0.020944</td>\n",
       "      <td>0.020944</td>\n",
       "      <td>-0.012311</td>\n",
       "      <td>0.012322</td>\n",
       "    </tr>\n",
       "    <tr>\n",
       "      <th>2010-04-01</th>\n",
       "      <td>0.012322</td>\n",
       "      <td>0.000152</td>\n",
       "      <td>0.001591</td>\n",
       "      <td>-0.006189</td>\n",
       "      <td>0.001495</td>\n",
       "      <td>0.020944</td>\n",
       "      <td>-0.006189</td>\n",
       "      <td>0.003349</td>\n",
       "    </tr>\n",
       "  </tbody>\n",
       "</table>\n",
       "</div>"
      ],
      "text/plain": [
       "code              sh       vol     vol20      lag1      lag2      5Max  \\\n",
       "date                                                                     \n",
       "2010-03-19  0.007111  0.000051  0.001888 -0.001439  0.018919  0.018919   \n",
       "2010-03-22  0.002225  0.000005  0.001863  0.007111 -0.001439  0.018919   \n",
       "2010-03-23 -0.006977  0.000049  0.001840  0.002225  0.007111  0.018919   \n",
       "2010-03-24  0.001206  0.000001  0.001823 -0.006977  0.002225  0.007111   \n",
       "2010-03-25 -0.012311  0.000152  0.001771  0.001206 -0.006977  0.007111   \n",
       "2010-03-26  0.013427  0.000180  0.001816 -0.012311  0.001206  0.013427   \n",
       "2010-03-29  0.020944  0.000439  0.001919  0.013427 -0.012311  0.020944   \n",
       "2010-03-30  0.001495  0.000002  0.001829  0.020944  0.013427  0.020944   \n",
       "2010-03-31 -0.006189  0.000038  0.001599  0.001495  0.020944  0.020944   \n",
       "2010-04-01  0.012322  0.000152  0.001591 -0.006189  0.001495  0.020944   \n",
       "\n",
       "code            5Min         y  \n",
       "date                            \n",
       "2010-03-19 -0.012104  0.002225  \n",
       "2010-03-22 -0.001439 -0.006977  \n",
       "2010-03-23 -0.006977  0.001206  \n",
       "2010-03-24 -0.006977 -0.012311  \n",
       "2010-03-25 -0.012311  0.013427  \n",
       "2010-03-26 -0.012311  0.020944  \n",
       "2010-03-29 -0.012311  0.001495  \n",
       "2010-03-30 -0.012311 -0.006189  \n",
       "2010-03-31 -0.012311  0.012322  \n",
       "2010-04-01 -0.006189  0.003349  "
      ]
     },
     "execution_count": 90,
     "metadata": {},
     "output_type": "execute_result"
    }
   ],
   "source": [
    "# n day volatility\n",
    "\n",
    "data['vol'] = data['sh']**2\n",
    "data['vol20'] = data['vol'].rolling(50).mean()*12.5\n",
    "data['lag1'] = data['sh'].shift(1)\n",
    "data['lag2'] = data['sh'].shift(2)\n",
    "data['5Max'] = data['sh'].rolling(5).max()\n",
    "data['5Min'] = data['sh'].rolling(5).min()\n",
    "data['y'] = data['sh'].shift(-1)\n",
    "data['RSI'] = data['sh']\n",
    "data = data.dropna(axis=0, how=\"any\")\n",
    "data.head(10)"
   ]
  },
  {
   "cell_type": "code",
   "execution_count": 116,
   "metadata": {
    "collapsed": false
   },
   "outputs": [
    {
     "name": "stdout",
     "output_type": "stream",
     "text": [
      "                            OLS Regression Results                            \n",
      "==============================================================================\n",
      "Dep. Variable:                      y   R-squared:                       0.003\n",
      "Model:                            OLS   Adj. R-squared:                  0.001\n",
      "Method:                 Least Squares   F-statistic:                     1.234\n",
      "Date:                Sun, 21 May 2017   Prob (F-statistic):              0.295\n",
      "Time:                        02:58:39   Log-Likelihood:                 4672.4\n",
      "No. Observations:                1668   AIC:                            -9335.\n",
      "Df Residuals:                    1663   BIC:                            -9308.\n",
      "Df Model:                           4                                         \n",
      "Covariance Type:            nonrobust                                         \n",
      "==============================================================================\n",
      "                 coef    std err          t      P>|t|      [95.0% Conf. Int.]\n",
      "------------------------------------------------------------------------------\n",
      "const       4.759e-05      0.001      0.069      0.945        -0.001     0.001\n",
      "x1             0.0349      0.027      1.289      0.198        -0.018     0.088\n",
      "x2             0.0376      0.040      0.934      0.350        -0.041     0.117\n",
      "x3             0.0087      0.029      0.302      0.762        -0.048     0.065\n",
      "x4            -0.1339      0.157     -0.851      0.395        -0.442     0.175\n",
      "==============================================================================\n",
      "Omnibus:                      311.130   Durbin-Watson:                   1.994\n",
      "Prob(Omnibus):                  0.000   Jarque-Bera (JB):             1812.724\n",
      "Skew:                          -0.739   Prob(JB):                         0.00\n",
      "Kurtosis:                       7.888   Cond. No.                         442.\n",
      "==============================================================================\n",
      "\n",
      "Warnings:\n",
      "[1] Standard Errors assume that the covariance matrix of the errors is correctly specified.\n"
     ]
    }
   ],
   "source": [
    "reg = linear_model.LinearRegression()\n",
    "x = data[[\"sh\",\"5Max\",\"5Min\",\"vol20\"]].values\n",
    "y = data[\"y\"].values\n",
    "reg.fit(x,y)\n",
    "y_hat = reg.predict(x)\n",
    "metrics.r2_score(y,y_hat)\n",
    "\n",
    "X2 = sm.add_constant(x)\n",
    "est = sm.OLS(y, X2)\n",
    "est2 = est.fit()\n",
    "print(est2.summary())"
   ]
  },
  {
   "cell_type": "code",
   "execution_count": 120,
   "metadata": {
    "collapsed": false
   },
   "outputs": [
    {
     "data": {
      "image/png": "[encoded data removed]",
      "text/plain": [
       "<matplotlib.figure.Figure at 0x3cd0c860>"
      ]
     },
     "metadata": {},
     "output_type": "display_data"
    }
   ],
   "source": [
    "plt.plot(y.cumsum())\n",
    "plt.plot(y_hat.cumsum())\n",
    "plt.show()\n"
   ]
  },
  {
   "cell_type": "code",
   "execution_count": 119,
   "metadata": {
    "collapsed": false
   },
   "outputs": [
    {
     "data": {
      "text/plain": [
       "array([ 0.00222508, -0.00475181, -0.00354551, ...,  0.20633357,\n",
       "        0.20856106,  0.21161546])"
      ]
     },
     "execution_count": 119,
     "metadata": {},
     "output_type": "execute_result"
    }
   ],
   "source": [
    "y.cumsum()"
   ]
  },
  {
   "cell_type": "code",
   "execution_count": 125,
   "metadata": {
    "collapsed": false
   },
   "outputs": [
    {
     "data": {
      "text/plain": [
       "174"
      ]
     },
     "execution_count": 125,
     "metadata": {},
     "output_type": "execute_result"
    }
   ],
   "source": [
    "np.sum([12,123,1,23,12,3])"
   ]
  },
  {
   "cell_type": "code",
   "execution_count": null,
   "metadata": {
    "collapsed": true
   },
   "outputs": [],
   "source": []
  }
 ],
 "metadata": {
  "kernelspec": {
   "display_name": "Python 3",
   "language": "python",
   "name": "python3"
  },
  "language_info": {
   "codemirror_mode": {
    "name": "ipython",
    "version": 3
   },
   "file_extension": ".py",
   "mimetype": "text/x-python",
   "name": "python",
   "nbconvert_exporter": "python",
   "pygments_lexer": "ipython3",
   "version": "3.6.0"
  }
 },
 "nbformat": 4,
 "nbformat_minor": 0
}
